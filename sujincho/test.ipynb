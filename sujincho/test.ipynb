{
 "metadata": {
  "language_info": {
   "codemirror_mode": {
    "name": "ipython",
    "version": 3
   },
   "file_extension": ".py",
   "mimetype": "text/x-python",
   "name": "python",
   "nbconvert_exporter": "python",
   "pygments_lexer": "ipython3",
   "version": "3.8.3-final"
  },
  "orig_nbformat": 2,
  "kernelspec": {
   "name": "python_defaultSpec_1600687395217",
   "display_name": "Python 3.8.3 64-bit ('virtualenv': conda)"
  }
 },
 "nbformat": 4,
 "nbformat_minor": 2,
 "cells": [
  {
   "cell_type": "code",
   "execution_count": null,
   "metadata": {},
   "outputs": [],
   "source": [
    "import os\n",
    "#import h5py\n",
    "import pickle\n",
    "import time\n",
    "import argparse\n",
    "import numpy as np\n",
    "import pandas as pd\n",
    "import collections\n",
    "from sklearn.model_selection import train_test_split\n",
    "\n",
    "from glob import glob\n",
    "from tqdm import tqdm\n",
    "from random import shuffle\n",
    "from datetime import datetime\n",
    "from itertools import product\n",
    "\n",
    "import h5py\n",
    "import torch "
   ]
  },
  {
   "cell_type": "code",
   "execution_count": null,
   "metadata": {},
   "outputs": [],
   "source": [
    "total_count_dat=pd.read_csv('./data/newyork_yellow_taxi_total_count.csv') "
   ]
  },
  {
   "cell_type": "code",
   "execution_count": null,
   "metadata": {},
   "outputs": [],
   "source": [
    "total_count_dat = total_count_dat.sort_values(['location', 'date', 'hour'])"
   ]
  },
  {
   "cell_type": "code",
   "execution_count": null,
   "metadata": {},
   "outputs": [],
   "source": [
    "total_count_dat.columns"
   ]
  },
  {
   "cell_type": "code",
   "execution_count": null,
   "metadata": {
    "tags": []
   },
   "outputs": [],
   "source": [
    "total_count_dat = total_count_dat.sort_values(['location', 'date', 'hour'])\n",
    "input_, weekday_, hour_, output_ = list(), list(), list(), list()\n",
    "\n",
    "for l in tqdm(set(total_count_dat['location'])):\n",
    "    l_dat = total_count_dat[total_count_dat['location'] == l]\n",
    "    for i in range(len(l_dat) - 24):\n",
    "        src_dat = l_dat[i:i+12]\n",
    "        input_.append(src_dat['count'].tolist())\n",
    "        weekday_.append(src_dat['weekday'].tolist())\n",
    "        hour_.append(src_dat['hour'].tolist())\n",
    "        trg_dat = l_dat[i+12:i+24]\n",
    "        output_.append(trg_dat['count'].tolist())\n",
    "\n",
    "    # Train & Validation set split\n",
    "    ix = list(range(len(input_)))"
   ]
  },
  {
   "cell_type": "code",
   "execution_count": null,
   "metadata": {},
   "outputs": [],
   "source": [
    "ix = list(range(len(input_)))\n",
    "\n",
    "var_train_size=int(len(ix)*0.8)\n",
    "train_ix, test_ix=train_test_split(ix, train_size=var_train_size, shuffle=True, random_state=42)"
   ]
  },
  {
   "cell_type": "code",
   "execution_count": null,
   "metadata": {},
   "outputs": [],
   "source": [
    "train_dataset_for_file=train_dataset.to_dict('r')"
   ]
  },
  {
   "cell_type": "code",
   "execution_count": null,
   "metadata": {},
   "outputs": [],
   "source": [
    "test_dataset_for_file=test_dataset.to_dict('r')"
   ]
  },
  {
   "cell_type": "code",
   "execution_count": null,
   "metadata": {
    "tags": []
   },
   "outputs": [],
   "source": [
    " hf_data_train = h5py.File(os.path.join('preprocessed_valid.h5'), 'r')\n",
    " t1=hf_data_train.get('valid_src')\n",
    " print(np.array(t1))"
   ]
  },
  {
   "cell_type": "code",
   "execution_count": null,
   "metadata": {},
   "outputs": [],
   "source": [
    "with open('preprocessed_train.pickle','wb') as f:\n",
    "   pickle.dump([input_[i] for i in train_ix],f)\n",
    "   pickle.dump([weekday_[i] for i in train_ix],f)\n",
    "   pickle.dump([hour_[i] for i in train_ix],f)  \n",
    "   pickle.dump([output_[i] for i in train_ix],f)  "
   ]
  },
  {
   "cell_type": "code",
   "execution_count": null,
   "metadata": {},
   "outputs": [],
   "source": [
    "with open('preprocessed_valid.pickle','wb') as f:\n",
    "   pickle.dump([input_[i] for i in valid_ix],f)\n",
    "   pickle.dump([weekday_[i] for i in valid_ix],f)\n",
    "   pickle.dump([hour_[i] for i in valid_ix],f)  \n",
    "   pickle.dump([output_[i] for i in valid_ix],f)  "
   ]
  },
  {
   "cell_type": "code",
   "execution_count": null,
   "metadata": {},
   "outputs": [],
   "source": [
    "with open('preprocessed_train.pickle','rb') as f:\n",
    "    input_=pickle.load(f)\n",
    "    weekday_=pickle.load(f)\n",
    "    hour_=pickle.load(f)\n",
    "    output_=pickle.load(f)"
   ]
  }
 ]
}