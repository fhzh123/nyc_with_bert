{
 "metadata": {
  "language_info": {
   "codemirror_mode": {
    "name": "ipython",
    "version": 3
   },
   "file_extension": ".py",
   "mimetype": "text/x-python",
   "name": "python",
   "nbconvert_exporter": "python",
   "pygments_lexer": "ipython3",
   "version": "3.8.5-final"
  },
  "orig_nbformat": 2,
  "kernelspec": {
   "name": "Python 3.8.5 64-bit ('torchenv': conda)",
   "display_name": "Python 3.8.5 64-bit ('torchenv': conda)",
   "metadata": {
    "interpreter": {
     "hash": "912ac7fec3cdf2a9e3794931809c5dc117e6d363da7ddbf2b257ef8bf2eb2309"
    }
   }
  }
 },
 "nbformat": 4,
 "nbformat_minor": 2,
 "cells": [
  {
   "cell_type": "code",
   "execution_count": 1,
   "metadata": {},
   "outputs": [],
   "source": [
    "import geopandas as gpd \n",
    "from shapely.geometry import Point\n",
    "from assign_taxi_zone import assign_taxi_zones\n",
    "import pandas as pd\n",
    "import dask.dataframe as dd \n",
    "import numpy as np\n",
    "import os \n",
    "from dask.diagnostics import ProgressBar\n",
    "from glob import glob\n",
    "import pickle\n",
    "from tqdm import tqdm\n",
    "from random import shuffle\n",
    "from datetime import datetime\n",
    "from itertools import product"
   ]
  },
  {
   "cell_type": "code",
   "execution_count": 2,
   "metadata": {
    "tags": []
   },
   "outputs": [],
   "source": [
    "pbar=ProgressBar()\n",
    "pbar.register()"
   ]
  },
  {
   "cell_type": "code",
   "execution_count": 3,
   "metadata": {},
   "outputs": [],
   "source": [
    "data_path='./data_2016/'\n",
    "data_type='*.csv'"
   ]
  },
  {
   "cell_type": "code",
   "execution_count": 4,
   "metadata": {},
   "outputs": [],
   "source": [
    " #폴더에 있는 파일 list\n",
    " data_list = sorted(glob(os.path.join(data_path, data_type)))"
   ]
  },
  {
   "cell_type": "code",
   "execution_count": null,
   "metadata": {},
   "outputs": [],
   "source": [
    "data_list"
   ]
  },
  {
   "cell_type": "code",
   "execution_count": 6,
   "metadata": {
    "tags": []
   },
   "outputs": [
    {
     "output_type": "stream",
     "name": "stdout",
     "text": "2016-02\n[########################################] | 100% Completed | 37min 42.8s\n"
    }
   ],
   "source": [
    "for i, data in enumerate(data_list):\n",
    "\n",
    "         tmp_str=data.replㅇace('.csv','')\n",
    "         month=tmp_str.replace('./data_2016\\\\cleansing_newyork_yellow_taxi_','')\n",
    "         \n",
    "\n",
    "         print(month)\n",
    "\n",
    "         trip_csv=dd.read_csv(data)\n",
    "         trip_csv['PULocationID']=trip_csv.map_partitions(assign_taxi_zones,'pickup_longitude', 'pickup_latitude',meta=('PULocationID',int))\n",
    "         trip_csv['DOLocationID']=trip_csv.map_partitions(assign_taxi_zones,'dropoff_longitude', 'dropoff_latitude',meta=('DOLocationID',int))\n",
    "\n",
    "         trip_csv.to_parquet(f'./data_2016_location/trips_{month}.parquet',has_nulls=True,object_encoding='json',compression='SNAPPY')"
   ]
  },
  {
   "cell_type": "code",
   "execution_count": 5,
   "metadata": {},
   "outputs": [],
   "source": [
    "trip_csv=dd.read_csv('./data_2016/cleansing_newyork_yellow_taxi_2016_03.csv')"
   ]
  },
  {
   "cell_type": "code",
   "execution_count": 6,
   "metadata": {
    "tags": []
   },
   "outputs": [
    {
     "output_type": "stream",
     "name": "stdout",
     "text": "[########################################] | 100% Completed |  0.7s\n"
    },
    {
     "output_type": "execute_result",
     "data": {
      "text/plain": "   Unnamed: 0  passenger_count  trip_distance  pickup_longitude  \\\n0           0                2           0.70        -73.947250   \n1           1                2           5.52        -73.983017   \n2           2                6           1.99        -73.992340   \n3           3                1           1.50        -73.981453   \n4           4                1           5.60        -74.000603   \n\n   pickup_latitude  dropoff_longitude  dropoff_latitude  total_amount  \\\n0        40.763771         -73.992012         40.735390           5.8   \n1        40.750992         -73.988586         40.758839          21.3   \n2        40.758202         -73.964355         40.757977          11.5   \n3        40.749722         -73.982323         40.763985           7.8   \n4        40.729755         -73.951324         40.669834          25.3   \n\n   trip_duration   pickup_time     temp_pickup_time      speed  \\\n0           3.00  1.456392e+09  2016-02-25 17:24:20  14.000000   \n1          21.00  1.456413e+09  2016-02-25 23:10:50  15.771429   \n2          10.85  1.454256e+09  2016-02-01 00:00:01  11.004608   \n3           5.20  1.454256e+09  2016-02-01 00:00:04  17.307692   \n4          20.90  1.454256e+09  2016-02-01 00:00:05  16.076555   \n\n   pickup_cluster  time_bin pickup_date pickup_time_hhmmss  \\\n0              18     60536  2016-02-25           17:24:20   \n1               9     60571  2016-02-25           23:10:50   \n2               5     56976  2016-02-01           00:00:01   \n3               9     56976  2016-02-01           00:00:04   \n4               7     56976  2016-02-01           00:00:05   \n\n   pickup_weekday_index  pickup_holiday  pickup_time_index  \n0                     4               0                 34  \n1                     4               0                 46  \n2                     1               0                  0  \n3                     1               0                  0  \n4                     1               0                  0  ",
      "text/html": "<div>\n<style scoped>\n    .dataframe tbody tr th:only-of-type {\n        vertical-align: middle;\n    }\n\n    .dataframe tbody tr th {\n        vertical-align: top;\n    }\n\n    .dataframe thead th {\n        text-align: right;\n    }\n</style>\n<table border=\"1\" class=\"dataframe\">\n  <thead>\n    <tr style=\"text-align: right;\">\n      <th></th>\n      <th>Unnamed: 0</th>\n      <th>passenger_count</th>\n      <th>trip_distance</th>\n      <th>pickup_longitude</th>\n      <th>pickup_latitude</th>\n      <th>dropoff_longitude</th>\n      <th>dropoff_latitude</th>\n      <th>total_amount</th>\n      <th>trip_duration</th>\n      <th>pickup_time</th>\n      <th>temp_pickup_time</th>\n      <th>speed</th>\n      <th>pickup_cluster</th>\n      <th>time_bin</th>\n      <th>pickup_date</th>\n      <th>pickup_time_hhmmss</th>\n      <th>pickup_weekday_index</th>\n      <th>pickup_holiday</th>\n      <th>pickup_time_index</th>\n    </tr>\n  </thead>\n  <tbody>\n    <tr>\n      <th>0</th>\n      <td>0</td>\n      <td>2</td>\n      <td>0.70</td>\n      <td>-73.947250</td>\n      <td>40.763771</td>\n      <td>-73.992012</td>\n      <td>40.735390</td>\n      <td>5.8</td>\n      <td>3.00</td>\n      <td>1.456392e+09</td>\n      <td>2016-02-25 17:24:20</td>\n      <td>14.000000</td>\n      <td>18</td>\n      <td>60536</td>\n      <td>2016-02-25</td>\n      <td>17:24:20</td>\n      <td>4</td>\n      <td>0</td>\n      <td>34</td>\n    </tr>\n    <tr>\n      <th>1</th>\n      <td>1</td>\n      <td>2</td>\n      <td>5.52</td>\n      <td>-73.983017</td>\n      <td>40.750992</td>\n      <td>-73.988586</td>\n      <td>40.758839</td>\n      <td>21.3</td>\n      <td>21.00</td>\n      <td>1.456413e+09</td>\n      <td>2016-02-25 23:10:50</td>\n      <td>15.771429</td>\n      <td>9</td>\n      <td>60571</td>\n      <td>2016-02-25</td>\n      <td>23:10:50</td>\n      <td>4</td>\n      <td>0</td>\n      <td>46</td>\n    </tr>\n    <tr>\n      <th>2</th>\n      <td>2</td>\n      <td>6</td>\n      <td>1.99</td>\n      <td>-73.992340</td>\n      <td>40.758202</td>\n      <td>-73.964355</td>\n      <td>40.757977</td>\n      <td>11.5</td>\n      <td>10.85</td>\n      <td>1.454256e+09</td>\n      <td>2016-02-01 00:00:01</td>\n      <td>11.004608</td>\n      <td>5</td>\n      <td>56976</td>\n      <td>2016-02-01</td>\n      <td>00:00:01</td>\n      <td>1</td>\n      <td>0</td>\n      <td>0</td>\n    </tr>\n    <tr>\n      <th>3</th>\n      <td>3</td>\n      <td>1</td>\n      <td>1.50</td>\n      <td>-73.981453</td>\n      <td>40.749722</td>\n      <td>-73.982323</td>\n      <td>40.763985</td>\n      <td>7.8</td>\n      <td>5.20</td>\n      <td>1.454256e+09</td>\n      <td>2016-02-01 00:00:04</td>\n      <td>17.307692</td>\n      <td>9</td>\n      <td>56976</td>\n      <td>2016-02-01</td>\n      <td>00:00:04</td>\n      <td>1</td>\n      <td>0</td>\n      <td>0</td>\n    </tr>\n    <tr>\n      <th>4</th>\n      <td>4</td>\n      <td>1</td>\n      <td>5.60</td>\n      <td>-74.000603</td>\n      <td>40.729755</td>\n      <td>-73.951324</td>\n      <td>40.669834</td>\n      <td>25.3</td>\n      <td>20.90</td>\n      <td>1.454256e+09</td>\n      <td>2016-02-01 00:00:05</td>\n      <td>16.076555</td>\n      <td>7</td>\n      <td>56976</td>\n      <td>2016-02-01</td>\n      <td>00:00:05</td>\n      <td>1</td>\n      <td>0</td>\n      <td>0</td>\n    </tr>\n  </tbody>\n</table>\n</div>"
     },
     "metadata": {},
     "execution_count": 6
    }
   ],
   "source": [
    "trip_csv.head()"
   ]
  },
  {
   "cell_type": "code",
   "execution_count": null,
   "metadata": {
    "tags": []
   },
   "outputs": [],
   "source": [
    "trip_csv['PULocationID']=trip_csv.map_partitions(assign_taxi_zones,'pickup_longitude', 'pickup_latitude',meta=('PULocationID',int))"
   ]
  },
  {
   "cell_type": "code",
   "execution_count": null,
   "metadata": {
    "tags": []
   },
   "outputs": [],
   "source": [
    "trip_csv['DOLocationID']=trip_csv.map_partitions(assign_taxi_zones,'dropoff_longitude', 'dropoff_latitude',meta=('DOLocationID',int))\n"
   ]
  },
  {
   "cell_type": "code",
   "execution_count": null,
   "metadata": {},
   "outputs": [],
   "source": [
    "test=dd.read_parquet('./data_2016_location/trips_2016_01.parquet',columns=['PULocationID','DOLocationID'])"
   ]
  },
  {
   "cell_type": "code",
   "execution_count": 3,
   "metadata": {},
   "outputs": [],
   "source": [
    "data_path='./data_2016_location/'\n",
    "data_type='*.parquet'"
   ]
  },
  {
   "cell_type": "code",
   "execution_count": 4,
   "metadata": {},
   "outputs": [
    {
     "output_type": "execute_result",
     "data": {
      "text/plain": "['./data_2016_location\\\\trips_2016-02.parquet']"
     },
     "metadata": {},
     "execution_count": 4
    }
   ],
   "source": [
    "data_list = sorted(glob(os.path.join(data_path,data_type)))\n",
    "data_list"
   ]
  },
  {
   "cell_type": "code",
   "execution_count": 7,
   "metadata": {},
   "outputs": [],
   "source": [
    "dat1 = pd.read_parquet('./data_2016_location\\\\trips_2016_03.parquet')"
   ]
  },
  {
   "cell_type": "code",
   "execution_count": 8,
   "metadata": {},
   "outputs": [
    {
     "output_type": "execute_result",
     "data": {
      "text/plain": "                     Unnamed: 0  passenger_count  trip_distance  \\\n__null_dask_index__                                               \n0                             0                2           0.70   \n1                             1                2           5.52   \n2                             2                6           1.99   \n3                             3                1           1.50   \n4                             4                1           5.60   \n\n                     pickup_longitude  pickup_latitude  dropoff_longitude  \\\n__null_dask_index__                                                         \n0                          -73.947250        40.763771         -73.992012   \n1                          -73.983017        40.750992         -73.988586   \n2                          -73.992340        40.758202         -73.964355   \n3                          -73.981453        40.749722         -73.982323   \n4                          -74.000603        40.729755         -73.951324   \n\n                     dropoff_latitude  total_amount  trip_duration  \\\n__null_dask_index__                                                  \n0                           40.735390           5.8           3.00   \n1                           40.758839          21.3          21.00   \n2                           40.757977          11.5          10.85   \n3                           40.763985           7.8           5.20   \n4                           40.669834          25.3          20.90   \n\n                      pickup_time  ...      speed  pickup_cluster  time_bin  \\\n__null_dask_index__                ...                                        \n0                    1.456392e+09  ...  14.000000              18     60536   \n1                    1.456413e+09  ...  15.771429               9     60571   \n2                    1.454256e+09  ...  11.004608               5     56976   \n3                    1.454256e+09  ...  17.307692               9     56976   \n4                    1.454256e+09  ...  16.076555               7     56976   \n\n                         pickup_date pickup_time_hhmmss pickup_weekday_index  \\\n__null_dask_index__                                                            \n0                    b'\"2016-02-25\"'      b'\"17:24:20\"'                    4   \n1                    b'\"2016-02-25\"'      b'\"23:10:50\"'                    4   \n2                    b'\"2016-02-01\"'      b'\"00:00:01\"'                    1   \n3                    b'\"2016-02-01\"'      b'\"00:00:04\"'                    1   \n4                    b'\"2016-02-01\"'      b'\"00:00:05\"'                    1   \n\n                     pickup_holiday  pickup_time_index  PULocationID  \\\n__null_dask_index__                                                    \n0                                 0                 34           202   \n1                                 0                 46           164   \n2                                 0                  0            48   \n3                                 0                  0           170   \n4                                 0                  0           114   \n\n                     DOLocationID  \n__null_dask_index__                \n0                             234  \n1                             230  \n2                             229  \n3                             163  \n4                              62  \n\n[5 rows x 21 columns]",
      "text/html": "<div>\n<style scoped>\n    .dataframe tbody tr th:only-of-type {\n        vertical-align: middle;\n    }\n\n    .dataframe tbody tr th {\n        vertical-align: top;\n    }\n\n    .dataframe thead th {\n        text-align: right;\n    }\n</style>\n<table border=\"1\" class=\"dataframe\">\n  <thead>\n    <tr style=\"text-align: right;\">\n      <th></th>\n      <th>Unnamed: 0</th>\n      <th>passenger_count</th>\n      <th>trip_distance</th>\n      <th>pickup_longitude</th>\n      <th>pickup_latitude</th>\n      <th>dropoff_longitude</th>\n      <th>dropoff_latitude</th>\n      <th>total_amount</th>\n      <th>trip_duration</th>\n      <th>pickup_time</th>\n      <th>...</th>\n      <th>speed</th>\n      <th>pickup_cluster</th>\n      <th>time_bin</th>\n      <th>pickup_date</th>\n      <th>pickup_time_hhmmss</th>\n      <th>pickup_weekday_index</th>\n      <th>pickup_holiday</th>\n      <th>pickup_time_index</th>\n      <th>PULocationID</th>\n      <th>DOLocationID</th>\n    </tr>\n    <tr>\n      <th>__null_dask_index__</th>\n      <th></th>\n      <th></th>\n      <th></th>\n      <th></th>\n      <th></th>\n      <th></th>\n      <th></th>\n      <th></th>\n      <th></th>\n      <th></th>\n      <th></th>\n      <th></th>\n      <th></th>\n      <th></th>\n      <th></th>\n      <th></th>\n      <th></th>\n      <th></th>\n      <th></th>\n      <th></th>\n      <th></th>\n    </tr>\n  </thead>\n  <tbody>\n    <tr>\n      <th>0</th>\n      <td>0</td>\n      <td>2</td>\n      <td>0.70</td>\n      <td>-73.947250</td>\n      <td>40.763771</td>\n      <td>-73.992012</td>\n      <td>40.735390</td>\n      <td>5.8</td>\n      <td>3.00</td>\n      <td>1.456392e+09</td>\n      <td>...</td>\n      <td>14.000000</td>\n      <td>18</td>\n      <td>60536</td>\n      <td>b'\"2016-02-25\"'</td>\n      <td>b'\"17:24:20\"'</td>\n      <td>4</td>\n      <td>0</td>\n      <td>34</td>\n      <td>202</td>\n      <td>234</td>\n    </tr>\n    <tr>\n      <th>1</th>\n      <td>1</td>\n      <td>2</td>\n      <td>5.52</td>\n      <td>-73.983017</td>\n      <td>40.750992</td>\n      <td>-73.988586</td>\n      <td>40.758839</td>\n      <td>21.3</td>\n      <td>21.00</td>\n      <td>1.456413e+09</td>\n      <td>...</td>\n      <td>15.771429</td>\n      <td>9</td>\n      <td>60571</td>\n      <td>b'\"2016-02-25\"'</td>\n      <td>b'\"23:10:50\"'</td>\n      <td>4</td>\n      <td>0</td>\n      <td>46</td>\n      <td>164</td>\n      <td>230</td>\n    </tr>\n    <tr>\n      <th>2</th>\n      <td>2</td>\n      <td>6</td>\n      <td>1.99</td>\n      <td>-73.992340</td>\n      <td>40.758202</td>\n      <td>-73.964355</td>\n      <td>40.757977</td>\n      <td>11.5</td>\n      <td>10.85</td>\n      <td>1.454256e+09</td>\n      <td>...</td>\n      <td>11.004608</td>\n      <td>5</td>\n      <td>56976</td>\n      <td>b'\"2016-02-01\"'</td>\n      <td>b'\"00:00:01\"'</td>\n      <td>1</td>\n      <td>0</td>\n      <td>0</td>\n      <td>48</td>\n      <td>229</td>\n    </tr>\n    <tr>\n      <th>3</th>\n      <td>3</td>\n      <td>1</td>\n      <td>1.50</td>\n      <td>-73.981453</td>\n      <td>40.749722</td>\n      <td>-73.982323</td>\n      <td>40.763985</td>\n      <td>7.8</td>\n      <td>5.20</td>\n      <td>1.454256e+09</td>\n      <td>...</td>\n      <td>17.307692</td>\n      <td>9</td>\n      <td>56976</td>\n      <td>b'\"2016-02-01\"'</td>\n      <td>b'\"00:00:04\"'</td>\n      <td>1</td>\n      <td>0</td>\n      <td>0</td>\n      <td>170</td>\n      <td>163</td>\n    </tr>\n    <tr>\n      <th>4</th>\n      <td>4</td>\n      <td>1</td>\n      <td>5.60</td>\n      <td>-74.000603</td>\n      <td>40.729755</td>\n      <td>-73.951324</td>\n      <td>40.669834</td>\n      <td>25.3</td>\n      <td>20.90</td>\n      <td>1.454256e+09</td>\n      <td>...</td>\n      <td>16.076555</td>\n      <td>7</td>\n      <td>56976</td>\n      <td>b'\"2016-02-01\"'</td>\n      <td>b'\"00:00:05\"'</td>\n      <td>1</td>\n      <td>0</td>\n      <td>0</td>\n      <td>114</td>\n      <td>62</td>\n    </tr>\n  </tbody>\n</table>\n<p>5 rows × 21 columns</p>\n</div>"
     },
     "metadata": {},
     "execution_count": 8
    }
   ],
   "source": [
    "dat1.head()"
   ]
  },
  {
   "cell_type": "code",
   "execution_count": 5,
   "metadata": {
    "tags": []
   },
   "outputs": [
    {
     "output_type": "stream",
     "name": "stdout",
     "text": "./data_2016_location\\trips_2016-02.parquet\n100%|██████████| 342432/342432 [3:48:30<00:00, 24.98it/s]\n"
    }
   ],
   "source": [
    "for i, data in enumerate(data_list):\n",
    "\n",
    "        #Read Parquet and Convert to DataFrame \n",
    "      \n",
    "     \n",
    "        dat1 = pd.read_parquet(data)\n",
    "\n",
    "        decoded_date=dat1['pickup_date'].str.decode(encoding='UTF-8')\n",
    "\n",
    "        striped_date=decoded_date.str.strip('\"')\n",
    "        \n",
    "        dat1['pickup_date']=striped_date\n",
    "        # Month setting\n",
    "        month = i + 1\n",
    "        print(data)\n",
    "        #print(f'{month} month start...')\n",
    "\n",
    " \n",
    "        # Pre-process other month\n",
    "        if month <= 9:\n",
    "            year_month = f'2016-0{month}'\n",
    "        else:\n",
    "            year_month = f'2016-{month}'\n",
    "            \n",
    "        # Unique list setting\n",
    "        date_list = [x for x in sorted(list(set(dat1['pickup_date']))) if x[:7] == year_month]\n",
    "        hour_list = range(0,48)\n",
    "        location_list = list(set(dat1['PULocationID']))\n",
    "\n",
    "        # Make processed list\n",
    "        location_list2, date_list2, hour_list2, weekday_list = list(), list(), list(), list()\n",
    "\n",
    "        for location, date, hour in product(location_list, date_list, hour_list):\n",
    "            location_list2.append(location)\n",
    "            date_list2.append(date)\n",
    "            hour_list2.append(hour)\n",
    "            weekday_list.append(datetime.strptime(date, '%Y-%m-%d').weekday())\n",
    "\n",
    "        # Count\n",
    "        count_list = list()\n",
    "\n",
    "        for i in tqdm(range(len(location_list2))):\n",
    "            location_dat = dat1[dat1['PULocationID'] == location_list2[i]]\n",
    "            date_dat = location_dat[location_dat['pickup_date'] == date_list2[i]]\n",
    "            hour_dat = date_dat[date_dat['pickup_time_index'] == hour_list2[i]]\n",
    "            count_list.append(len(hour_dat))\n",
    "    \n",
    "        # Total_data make & save\n",
    "        total_dat = pd.DataFrame({\n",
    "            'location': location_list2,\n",
    "            'date': date_list2,\n",
    "            'weekday': weekday_list,\n",
    "            'hour': hour_list2,\n",
    "            'count': count_list\n",
    "        })\n",
    "        total_dat.to_csv(os.path.join('./data_2016_location/', f'newyork_yellow_taxi_2016-0{month}_count.csv'), index=False)\n"
   ]
  }
 ]
}