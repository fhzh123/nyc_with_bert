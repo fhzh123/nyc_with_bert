{
 "cells": [
  {
   "cell_type": "code",
   "execution_count": 3,
   "metadata": {},
   "outputs": [],
   "source": [
    "import geopandas as gpd \n",
    "from shapely.geometry import Point\n",
    "from assign_taxi_zone import assign_taxi_zones\n",
    "import pandas as pd\n",
    "import dask.dataframe as dd \n",
    "import numpy as np\n",
    "import os \n",
    "from dask.diagnostics import ProgressBar\n",
    "from glob import glob\n",
    "import pickle\n",
    "from tqdm import tqdm\n",
    "from random import shuffle\n",
    "from datetime import datetime\n",
    "from itertools import product"
   ]
  },
  {
   "cell_type": "code",
   "execution_count": 8,
   "metadata": {
    "tags": []
   },
   "outputs": [],
   "source": [
    "pbar=ProgressBar()\n",
    "pbar.register()"
   ]
  },
  {
   "cell_type": "code",
   "execution_count": 9,
   "metadata": {},
   "outputs": [],
   "source": [
    "data_path='./data_2016/'\n",
    "data_type='*.csv'"
   ]
  },
  {
   "cell_type": "code",
   "execution_count": 37,
   "metadata": {},
   "outputs": [],
   "source": [
    " #폴더에 있는 파일 list\n",
    " data_list = sorted(glob(os.path.join(data_path, data_type)))"
   ]
  },
  {
   "cell_type": "code",
   "execution_count": 40,
   "metadata": {},
   "outputs": [],
   "source": [
    "t=pd.read_csv('./data_2016\\\\cleansing_newyork_yellow_taxi_2016-02.csv')"
   ]
  },
  {
   "cell_type": "code",
   "execution_count": 41,
   "metadata": {},
   "outputs": [
    {
     "output_type": "execute_result",
     "data": {
      "text/plain": "11034714"
     },
     "metadata": {},
     "execution_count": 41
    }
   ],
   "source": [
    "len(t)"
   ]
  },
  {
   "cell_type": "code",
   "execution_count": 12,
   "metadata": {
    "tags": []
   },
   "outputs": [
    {
     "output_type": "stream",
     "name": "stdout",
     "text": "2016-03\n[########################################] | 100% Completed | 46min 42.5s\n[########################################] | 100% Completed | 46min 42.5s\n2016-04\n[########################################] | 100% Completed | 34min 24.9s\n[########################################] | 100% Completed | 34min 25.0s\n"
    }
   ],
   "source": [
    "for i, data in enumerate(data_list):\n",
    "\n",
    "         tmp_str=data.replace('.csv','')\n",
    "         month=tmp_str.replace('./data_2016\\\\cleansing_newyork_yellow_taxi_','')\n",
    "         \n",
    "\n",
    "         print(month)\n",
    "\n",
    "         trip_csv=dd.read_csv(data)\n",
    "         trip_csv['PULocationID']=trip_csv.map_partitions(assign_taxi_zones,'pickup_longitude', 'pickup_latitude',meta=('PULocationID',int))\n",
    "         trip_csv['DOLocationID']=trip_csv.map_partitions(assign_taxi_zones,'dropoff_longitude', 'dropoff_latitude',meta=('DOLocationID',int))\n",
    "\n",
    "         trip_csv.to_parquet(f'./data_2016_location/trips_{month}.parquet',has_nulls=True,object_encoding='json',compression='SNAPPY')"
   ]
  },
  {
   "cell_type": "code",
   "execution_count": 6,
   "metadata": {
    "tags": []
   },
   "outputs": [
    {
     "name": "stdout",
     "output_type": "stream",
     "text": [
      "[########################################] | 100% Completed |  0.7s\n"
     ]
    },
    {
     "data": {
      "text/html": [
       "<div>\n",
       "<style scoped>\n",
       "    .dataframe tbody tr th:only-of-type {\n",
       "        vertical-align: middle;\n",
       "    }\n",
       "\n",
       "    .dataframe tbody tr th {\n",
       "        vertical-align: top;\n",
       "    }\n",
       "\n",
       "    .dataframe thead th {\n",
       "        text-align: right;\n",
       "    }\n",
       "</style>\n",
       "<table border=\"1\" class=\"dataframe\">\n",
       "  <thead>\n",
       "    <tr style=\"text-align: right;\">\n",
       "      <th></th>\n",
       "      <th>Unnamed: 0</th>\n",
       "      <th>passenger_count</th>\n",
       "      <th>trip_distance</th>\n",
       "      <th>pickup_longitude</th>\n",
       "      <th>pickup_latitude</th>\n",
       "      <th>dropoff_longitude</th>\n",
       "      <th>dropoff_latitude</th>\n",
       "      <th>total_amount</th>\n",
       "      <th>trip_duration</th>\n",
       "      <th>pickup_time</th>\n",
       "      <th>temp_pickup_time</th>\n",
       "      <th>speed</th>\n",
       "      <th>pickup_cluster</th>\n",
       "      <th>time_bin</th>\n",
       "      <th>pickup_date</th>\n",
       "      <th>pickup_time_hhmmss</th>\n",
       "      <th>pickup_weekday_index</th>\n",
       "      <th>pickup_holiday</th>\n",
       "      <th>pickup_time_index</th>\n",
       "    </tr>\n",
       "  </thead>\n",
       "  <tbody>\n",
       "    <tr>\n",
       "      <th>0</th>\n",
       "      <td>0</td>\n",
       "      <td>2</td>\n",
       "      <td>0.70</td>\n",
       "      <td>-73.947250</td>\n",
       "      <td>40.763771</td>\n",
       "      <td>-73.992012</td>\n",
       "      <td>40.735390</td>\n",
       "      <td>5.8</td>\n",
       "      <td>3.00</td>\n",
       "      <td>1.456392e+09</td>\n",
       "      <td>2016-02-25 17:24:20</td>\n",
       "      <td>14.000000</td>\n",
       "      <td>18</td>\n",
       "      <td>60536</td>\n",
       "      <td>2016-02-25</td>\n",
       "      <td>17:24:20</td>\n",
       "      <td>4</td>\n",
       "      <td>0</td>\n",
       "      <td>34</td>\n",
       "    </tr>\n",
       "    <tr>\n",
       "      <th>1</th>\n",
       "      <td>1</td>\n",
       "      <td>2</td>\n",
       "      <td>5.52</td>\n",
       "      <td>-73.983017</td>\n",
       "      <td>40.750992</td>\n",
       "      <td>-73.988586</td>\n",
       "      <td>40.758839</td>\n",
       "      <td>21.3</td>\n",
       "      <td>21.00</td>\n",
       "      <td>1.456413e+09</td>\n",
       "      <td>2016-02-25 23:10:50</td>\n",
       "      <td>15.771429</td>\n",
       "      <td>9</td>\n",
       "      <td>60571</td>\n",
       "      <td>2016-02-25</td>\n",
       "      <td>23:10:50</td>\n",
       "      <td>4</td>\n",
       "      <td>0</td>\n",
       "      <td>46</td>\n",
       "    </tr>\n",
       "    <tr>\n",
       "      <th>2</th>\n",
       "      <td>2</td>\n",
       "      <td>6</td>\n",
       "      <td>1.99</td>\n",
       "      <td>-73.992340</td>\n",
       "      <td>40.758202</td>\n",
       "      <td>-73.964355</td>\n",
       "      <td>40.757977</td>\n",
       "      <td>11.5</td>\n",
       "      <td>10.85</td>\n",
       "      <td>1.454256e+09</td>\n",
       "      <td>2016-02-01 00:00:01</td>\n",
       "      <td>11.004608</td>\n",
       "      <td>5</td>\n",
       "      <td>56976</td>\n",
       "      <td>2016-02-01</td>\n",
       "      <td>00:00:01</td>\n",
       "      <td>1</td>\n",
       "      <td>0</td>\n",
       "      <td>0</td>\n",
       "    </tr>\n",
       "    <tr>\n",
       "      <th>3</th>\n",
       "      <td>3</td>\n",
       "      <td>1</td>\n",
       "      <td>1.50</td>\n",
       "      <td>-73.981453</td>\n",
       "      <td>40.749722</td>\n",
       "      <td>-73.982323</td>\n",
       "      <td>40.763985</td>\n",
       "      <td>7.8</td>\n",
       "      <td>5.20</td>\n",
       "      <td>1.454256e+09</td>\n",
       "      <td>2016-02-01 00:00:04</td>\n",
       "      <td>17.307692</td>\n",
       "      <td>9</td>\n",
       "      <td>56976</td>\n",
       "      <td>2016-02-01</td>\n",
       "      <td>00:00:04</td>\n",
       "      <td>1</td>\n",
       "      <td>0</td>\n",
       "      <td>0</td>\n",
       "    </tr>\n",
       "    <tr>\n",
       "      <th>4</th>\n",
       "      <td>4</td>\n",
       "      <td>1</td>\n",
       "      <td>5.60</td>\n",
       "      <td>-74.000603</td>\n",
       "      <td>40.729755</td>\n",
       "      <td>-73.951324</td>\n",
       "      <td>40.669834</td>\n",
       "      <td>25.3</td>\n",
       "      <td>20.90</td>\n",
       "      <td>1.454256e+09</td>\n",
       "      <td>2016-02-01 00:00:05</td>\n",
       "      <td>16.076555</td>\n",
       "      <td>7</td>\n",
       "      <td>56976</td>\n",
       "      <td>2016-02-01</td>\n",
       "      <td>00:00:05</td>\n",
       "      <td>1</td>\n",
       "      <td>0</td>\n",
       "      <td>0</td>\n",
       "    </tr>\n",
       "  </tbody>\n",
       "</table>\n",
       "</div>"
      ],
      "text/plain": [
       "   Unnamed: 0  passenger_count  trip_distance  pickup_longitude  \\\n",
       "0           0                2           0.70        -73.947250   \n",
       "1           1                2           5.52        -73.983017   \n",
       "2           2                6           1.99        -73.992340   \n",
       "3           3                1           1.50        -73.981453   \n",
       "4           4                1           5.60        -74.000603   \n",
       "\n",
       "   pickup_latitude  dropoff_longitude  dropoff_latitude  total_amount  \\\n",
       "0        40.763771         -73.992012         40.735390           5.8   \n",
       "1        40.750992         -73.988586         40.758839          21.3   \n",
       "2        40.758202         -73.964355         40.757977          11.5   \n",
       "3        40.749722         -73.982323         40.763985           7.8   \n",
       "4        40.729755         -73.951324         40.669834          25.3   \n",
       "\n",
       "   trip_duration   pickup_time     temp_pickup_time      speed  \\\n",
       "0           3.00  1.456392e+09  2016-02-25 17:24:20  14.000000   \n",
       "1          21.00  1.456413e+09  2016-02-25 23:10:50  15.771429   \n",
       "2          10.85  1.454256e+09  2016-02-01 00:00:01  11.004608   \n",
       "3           5.20  1.454256e+09  2016-02-01 00:00:04  17.307692   \n",
       "4          20.90  1.454256e+09  2016-02-01 00:00:05  16.076555   \n",
       "\n",
       "   pickup_cluster  time_bin pickup_date pickup_time_hhmmss  \\\n",
       "0              18     60536  2016-02-25           17:24:20   \n",
       "1               9     60571  2016-02-25           23:10:50   \n",
       "2               5     56976  2016-02-01           00:00:01   \n",
       "3               9     56976  2016-02-01           00:00:04   \n",
       "4               7     56976  2016-02-01           00:00:05   \n",
       "\n",
       "   pickup_weekday_index  pickup_holiday  pickup_time_index  \n",
       "0                     4               0                 34  \n",
       "1                     4               0                 46  \n",
       "2                     1               0                  0  \n",
       "3                     1               0                  0  \n",
       "4                     1               0                  0  "
      ]
     },
     "execution_count": 6,
     "metadata": {},
     "output_type": "execute_result"
    }
   ],
   "source": [
    "trip_csv.head()"
   ]
  },
  {
   "cell_type": "code",
   "execution_count": 14,
   "metadata": {},
   "outputs": [],
   "source": [
    "data_path='./data_2016_location/'\n",
    "data_type='*.parquet'"
   ]
  },
  {
   "cell_type": "code",
   "execution_count": 15,
   "metadata": {},
   "outputs": [
    {
     "output_type": "execute_result",
     "data": {
      "text/plain": "['./data_2016_location\\\\trips_2016-03.parquet',\n './data_2016_location\\\\trips_2016-04.parquet']"
     },
     "metadata": {},
     "execution_count": 15
    }
   ],
   "source": [
    "data_list = sorted(glob(os.path.join(data_path,data_type)))\n",
    "data_list"
   ]
  },
  {
   "cell_type": "code",
   "execution_count": 5,
   "metadata": {},
   "outputs": [],
   "source": [
    "t=pd.read_parquet('./data_2016_location\\\\trips_2016-02.parquet')"
   ]
  },
  {
   "cell_type": "code",
   "execution_count": 7,
   "metadata": {},
   "outputs": [
    {
     "output_type": "execute_result",
     "data": {
      "text/plain": "Index(['Unnamed: 0', 'passenger_count', 'trip_distance', 'pickup_longitude',\n       'pickup_latitude', 'dropoff_longitude', 'dropoff_latitude',\n       'total_amount', 'trip_duration', 'pickup_time', 'temp_pickup_time',\n       'speed', 'pickup_cluster', 'pickup_date', 'pickup_time_hhmmss',\n       'pickup_weekday_index', 'pickup_holiday', 'pickup_time_index',\n       'PULocationID', 'DOLocationID'],\n      dtype='object')"
     },
     "metadata": {},
     "execution_count": 7
    }
   ],
   "source": [
    "t.columns"
   ]
  },
  {
   "cell_type": "code",
   "execution_count": 9,
   "metadata": {},
   "outputs": [
    {
     "output_type": "execute_result",
     "data": {
      "text/plain": "              Unnamed: 0  passenger_count  trip_distance  pickup_longitude  \\\nPULocationID                                                                 \n0                   3213             3213           3213              3213   \n2                      3                3              3                 3   \n3                     42               42             42                42   \n4                  37250            37250          37250             37250   \n6                     76               76             76                76   \n...                  ...              ...            ...               ...   \n259                   47               47             47                47   \n260                 6568             6568           6568              6568   \n261                49065            49065          49065             49065   \n262               133902           133902         133902            133902   \n263               196576           196576         196576            196576   \n\n              pickup_latitude  dropoff_longitude  dropoff_latitude  \\\nPULocationID                                                         \n0                        3213               3213              3213   \n2                           3                  3                 3   \n3                          42                 42                42   \n4                       37250              37250             37250   \n6                          76                 76                76   \n...                       ...                ...               ...   \n259                        47                 47                47   \n260                      6568               6568              6568   \n261                     49065              49065             49065   \n262                    133902             133902            133902   \n263                    196576             196576            196576   \n\n              total_amount  trip_duration  pickup_time  temp_pickup_time  \\\nPULocationID                                                               \n0                     3213           3213         3213              3213   \n2                        3              3            3                 3   \n3                       42             42           42                42   \n4                    37250          37250        37250             37250   \n6                       76             76           76                76   \n...                    ...            ...          ...               ...   \n259                     47             47           47                47   \n260                   6568           6568         6568              6568   \n261                  49065          49065        49065             49065   \n262                 133902         133902       133902            133902   \n263                 196576         196576       196576            196576   \n\n               speed  pickup_cluster  pickup_date  pickup_time_hhmmss  \\\nPULocationID                                                            \n0               3213            3213         3213                3213   \n2                  3               3            3                   3   \n3                 42              42           42                  42   \n4              37250           37250        37250               37250   \n6                 76              76           76                  76   \n...              ...             ...          ...                 ...   \n259               47              47           47                  47   \n260             6568            6568         6568                6568   \n261            49065           49065        49065               49065   \n262           133902          133902       133902              133902   \n263           196576          196576       196576              196576   \n\n              pickup_weekday_index  pickup_holiday  pickup_time_index  \\\nPULocationID                                                            \n0                             3213            3213               3213   \n2                                3               3                  3   \n3                               42              42                 42   \n4                            37250           37250              37250   \n6                               76              76                 76   \n...                            ...             ...                ...   \n259                             47              47                 47   \n260                           6568            6568               6568   \n261                          49065           49065              49065   \n262                         133902          133902             133902   \n263                         196576          196576             196576   \n\n              DOLocationID  \nPULocationID                \n0                     3213  \n2                        3  \n3                       42  \n4                    37250  \n6                       76  \n...                    ...  \n259                     47  \n260                   6568  \n261                  49065  \n262                 133902  \n263                 196576  \n\n[246 rows x 19 columns]",
      "text/html": "<div>\n<style scoped>\n    .dataframe tbody tr th:only-of-type {\n        vertical-align: middle;\n    }\n\n    .dataframe tbody tr th {\n        vertical-align: top;\n    }\n\n    .dataframe thead th {\n        text-align: right;\n    }\n</style>\n<table border=\"1\" class=\"dataframe\">\n  <thead>\n    <tr style=\"text-align: right;\">\n      <th></th>\n      <th>Unnamed: 0</th>\n      <th>passenger_count</th>\n      <th>trip_distance</th>\n      <th>pickup_longitude</th>\n      <th>pickup_latitude</th>\n      <th>dropoff_longitude</th>\n      <th>dropoff_latitude</th>\n      <th>total_amount</th>\n      <th>trip_duration</th>\n      <th>pickup_time</th>\n      <th>temp_pickup_time</th>\n      <th>speed</th>\n      <th>pickup_cluster</th>\n      <th>pickup_date</th>\n      <th>pickup_time_hhmmss</th>\n      <th>pickup_weekday_index</th>\n      <th>pickup_holiday</th>\n      <th>pickup_time_index</th>\n      <th>DOLocationID</th>\n    </tr>\n    <tr>\n      <th>PULocationID</th>\n      <th></th>\n      <th></th>\n      <th></th>\n      <th></th>\n      <th></th>\n      <th></th>\n      <th></th>\n      <th></th>\n      <th></th>\n      <th></th>\n      <th></th>\n      <th></th>\n      <th></th>\n      <th></th>\n      <th></th>\n      <th></th>\n      <th></th>\n      <th></th>\n      <th></th>\n    </tr>\n  </thead>\n  <tbody>\n    <tr>\n      <th>0</th>\n      <td>3213</td>\n      <td>3213</td>\n      <td>3213</td>\n      <td>3213</td>\n      <td>3213</td>\n      <td>3213</td>\n      <td>3213</td>\n      <td>3213</td>\n      <td>3213</td>\n      <td>3213</td>\n      <td>3213</td>\n      <td>3213</td>\n      <td>3213</td>\n      <td>3213</td>\n      <td>3213</td>\n      <td>3213</td>\n      <td>3213</td>\n      <td>3213</td>\n      <td>3213</td>\n    </tr>\n    <tr>\n      <th>2</th>\n      <td>3</td>\n      <td>3</td>\n      <td>3</td>\n      <td>3</td>\n      <td>3</td>\n      <td>3</td>\n      <td>3</td>\n      <td>3</td>\n      <td>3</td>\n      <td>3</td>\n      <td>3</td>\n      <td>3</td>\n      <td>3</td>\n      <td>3</td>\n      <td>3</td>\n      <td>3</td>\n      <td>3</td>\n      <td>3</td>\n      <td>3</td>\n    </tr>\n    <tr>\n      <th>3</th>\n      <td>42</td>\n      <td>42</td>\n      <td>42</td>\n      <td>42</td>\n      <td>42</td>\n      <td>42</td>\n      <td>42</td>\n      <td>42</td>\n      <td>42</td>\n      <td>42</td>\n      <td>42</td>\n      <td>42</td>\n      <td>42</td>\n      <td>42</td>\n      <td>42</td>\n      <td>42</td>\n      <td>42</td>\n      <td>42</td>\n      <td>42</td>\n    </tr>\n    <tr>\n      <th>4</th>\n      <td>37250</td>\n      <td>37250</td>\n      <td>37250</td>\n      <td>37250</td>\n      <td>37250</td>\n      <td>37250</td>\n      <td>37250</td>\n      <td>37250</td>\n      <td>37250</td>\n      <td>37250</td>\n      <td>37250</td>\n      <td>37250</td>\n      <td>37250</td>\n      <td>37250</td>\n      <td>37250</td>\n      <td>37250</td>\n      <td>37250</td>\n      <td>37250</td>\n      <td>37250</td>\n    </tr>\n    <tr>\n      <th>6</th>\n      <td>76</td>\n      <td>76</td>\n      <td>76</td>\n      <td>76</td>\n      <td>76</td>\n      <td>76</td>\n      <td>76</td>\n      <td>76</td>\n      <td>76</td>\n      <td>76</td>\n      <td>76</td>\n      <td>76</td>\n      <td>76</td>\n      <td>76</td>\n      <td>76</td>\n      <td>76</td>\n      <td>76</td>\n      <td>76</td>\n      <td>76</td>\n    </tr>\n    <tr>\n      <th>...</th>\n      <td>...</td>\n      <td>...</td>\n      <td>...</td>\n      <td>...</td>\n      <td>...</td>\n      <td>...</td>\n      <td>...</td>\n      <td>...</td>\n      <td>...</td>\n      <td>...</td>\n      <td>...</td>\n      <td>...</td>\n      <td>...</td>\n      <td>...</td>\n      <td>...</td>\n      <td>...</td>\n      <td>...</td>\n      <td>...</td>\n      <td>...</td>\n    </tr>\n    <tr>\n      <th>259</th>\n      <td>47</td>\n      <td>47</td>\n      <td>47</td>\n      <td>47</td>\n      <td>47</td>\n      <td>47</td>\n      <td>47</td>\n      <td>47</td>\n      <td>47</td>\n      <td>47</td>\n      <td>47</td>\n      <td>47</td>\n      <td>47</td>\n      <td>47</td>\n      <td>47</td>\n      <td>47</td>\n      <td>47</td>\n      <td>47</td>\n      <td>47</td>\n    </tr>\n    <tr>\n      <th>260</th>\n      <td>6568</td>\n      <td>6568</td>\n      <td>6568</td>\n      <td>6568</td>\n      <td>6568</td>\n      <td>6568</td>\n      <td>6568</td>\n      <td>6568</td>\n      <td>6568</td>\n      <td>6568</td>\n      <td>6568</td>\n      <td>6568</td>\n      <td>6568</td>\n      <td>6568</td>\n      <td>6568</td>\n      <td>6568</td>\n      <td>6568</td>\n      <td>6568</td>\n      <td>6568</td>\n    </tr>\n    <tr>\n      <th>261</th>\n      <td>49065</td>\n      <td>49065</td>\n      <td>49065</td>\n      <td>49065</td>\n      <td>49065</td>\n      <td>49065</td>\n      <td>49065</td>\n      <td>49065</td>\n      <td>49065</td>\n      <td>49065</td>\n      <td>49065</td>\n      <td>49065</td>\n      <td>49065</td>\n      <td>49065</td>\n      <td>49065</td>\n      <td>49065</td>\n      <td>49065</td>\n      <td>49065</td>\n      <td>49065</td>\n    </tr>\n    <tr>\n      <th>262</th>\n      <td>133902</td>\n      <td>133902</td>\n      <td>133902</td>\n      <td>133902</td>\n      <td>133902</td>\n      <td>133902</td>\n      <td>133902</td>\n      <td>133902</td>\n      <td>133902</td>\n      <td>133902</td>\n      <td>133902</td>\n      <td>133902</td>\n      <td>133902</td>\n      <td>133902</td>\n      <td>133902</td>\n      <td>133902</td>\n      <td>133902</td>\n      <td>133902</td>\n      <td>133902</td>\n    </tr>\n    <tr>\n      <th>263</th>\n      <td>196576</td>\n      <td>196576</td>\n      <td>196576</td>\n      <td>196576</td>\n      <td>196576</td>\n      <td>196576</td>\n      <td>196576</td>\n      <td>196576</td>\n      <td>196576</td>\n      <td>196576</td>\n      <td>196576</td>\n      <td>196576</td>\n      <td>196576</td>\n      <td>196576</td>\n      <td>196576</td>\n      <td>196576</td>\n      <td>196576</td>\n      <td>196576</td>\n      <td>196576</td>\n    </tr>\n  </tbody>\n</table>\n<p>246 rows × 19 columns</p>\n</div>"
     },
     "metadata": {},
     "execution_count": 9
    }
   ],
   "source": [
    "t.groupby('').count()"
   ]
  },
  {
   "cell_type": "code",
   "execution_count": 20,
   "metadata": {
    "tags": []
   },
   "outputs": [
    {
     "output_type": "stream",
     "name": "stdout",
     "text": "./data_2016_location\\trips_2016-03.parquet\n100%|██████████| 372000/372000 [4:47:56<00:00, 21.53it/s]\n./data_2016_location\\trips_2016-04.parquet\n100%|██████████| 351360/351360 [4:19:10<00:00, 22.59it/s]\n"
    }
   ],
   "source": [
    "for i, data in enumerate(data_list):\n",
    "\n",
    "        #Read Parquet and Convert to DataFrame \n",
    "      \n",
    "     \n",
    "        dat1 = pd.read_parquet(data)\n",
    "\n",
    "        #decoded_date=dat1['pickup_date'].str.decode(encoding='UTF-8')\n",
    "\n",
    "        #striped_date=decoded_date.str.strip('\"')\n",
    "        \n",
    "        #dat1['pickup_date']=striped_date\n",
    "        # Month setting\n",
    "        month = i + 3\n",
    "        print(data)\n",
    "        #print(f'{month} month start...')\n",
    "\n",
    " \n",
    "        # Pre-process other month\n",
    "        if month <= 9:\n",
    "            year_month = f'2016-0{month}'\n",
    "        else:\n",
    "            year_month = f'2016-{month}'\n",
    "            \n",
    "        # Unique list setting\n",
    "        date_list = [x for x in sorted(list(set(dat1['pickup_date']))) if x[:7] == year_month]\n",
    "        hour_list = range(0,48)\n",
    "        location_list = list(set(dat1['PULocationID']))\n",
    "\n",
    "        # Make processed list\n",
    "        location_list2, date_list2, hour_list2, weekday_list = list(), list(), list(), list()\n",
    "\n",
    "        for location, date, hour in product(location_list, date_list, hour_list):\n",
    "            location_list2.append(location)\n",
    "            date_list2.append(date)\n",
    "            hour_list2.append(hour)\n",
    "            weekday_list.append(datetime.strptime(date, '%Y-%m-%d').weekday())\n",
    "\n",
    "        # Count\n",
    "        count_list = list()\n",
    "\n",
    "        for i in tqdm(range(len(location_list2))):\n",
    "            location_dat = dat1[dat1['PULocationID'] == location_list2[i]]\n",
    "            date_dat = location_dat[location_dat['pickup_date'] == date_list2[i]]\n",
    "            hour_dat = date_dat[date_dat['pickup_time_index'] == hour_list2[i]]\n",
    "            count_list.append(len(hour_dat))\n",
    "    \n",
    "        # Total_data make & save\n",
    "        total_dat = pd.DataFrame({\n",
    "            'location': location_list2,\n",
    "            'date': date_list2,\n",
    "            'weekday': weekday_list,\n",
    "            'hour': hour_list2,\n",
    "            'count': count_list\n",
    "        })\n",
    "        total_dat.to_csv(os.path.join('./data_2016_location/', f'newyork_yellow_taxi_2016-0{month}_count.csv'), index=False)\n"
   ]
  },
  {
   "cell_type": "code",
   "execution_count": 4,
   "metadata": {},
   "outputs": [
    {
     "output_type": "execute_result",
     "data": {
      "text/plain": "['./data_2016_location\\\\newyork_yellow_taxi_2016-01_count.csv',\n './data_2016_location\\\\newyork_yellow_taxi_2016-02_count.csv',\n './data_2016_location\\\\newyork_yellow_taxi_2016-03_count.csv',\n './data_2016_location\\\\newyork_yellow_taxi_2016-04_count.csv']"
     },
     "metadata": {},
     "execution_count": 4
    }
   ],
   "source": [
    "data_path='./data_2016_location/'\n",
    "data_type='*.csv'\n",
    "data_list = sorted(glob(os.path.join(data_path,data_type)))\n",
    "data_list\n"
   ]
  },
  {
   "cell_type": "code",
   "execution_count": 5,
   "metadata": {},
   "outputs": [],
   "source": [
    "total_count_dat = pd.DataFrame()\n",
    "\n",
    "for i, data in enumerate(data_list):\n",
    "     total_dat = pd.read_csv(data)\n",
    "     total_count_dat = pd.concat([total_count_dat, total_dat])\n",
    "\n",
    "total_count_dat.to_csv(os.path.join(data_path, 'newyork_yellow_taxi_total_count.csv'))"
   ]
  },
  {
   "cell_type": "code",
   "execution_count": 6,
   "metadata": {
    "tags": []
   },
   "outputs": [
    {
     "output_type": "stream",
     "name": "stderr",
     "text": "100%|██████████| 244/244 [01:48<00:00,  2.26it/s]\n"
    }
   ],
   "source": [
    "total_count_dat = total_count_dat.sort_values(['location', 'date', 'hour'])\n",
    "location_, input_, weekday_, hour_, output_ = list(), list(), list(), list(), list()\n",
    "\n",
    "for l in tqdm(set(total_dat['location'])):\n",
    "    l_dat = total_dat[total_dat['location'] == l]\n",
    "    for i in range(len(l_dat) - 24):\n",
    "        src_dat = l_dat[i:i+12]\n",
    "        location_.append(src_dat['location'].tolist())\n",
    "        input_.append(src_dat['count'].tolist())\n",
    "        weekday_.append(src_dat['weekday'].tolist())\n",
    "        hour_.append(src_dat['hour'].tolist())\n",
    "        trg_dat = l_dat[i+12:i+24]\n",
    "        output_.append(trg_dat['count'].tolist())\n"
   ]
  },
  {
   "cell_type": "code",
   "execution_count": 8,
   "metadata": {},
   "outputs": [],
   "source": [
    "# Train & Validation set split\n",
    "ix = list(range(len(input_)))\n",
    "shuffle(ix)\n",
    "\n",
    "train_ix = ix[:int(len(ix) * 0.8)]\n",
    "valid_ix = ix[int(len(ix) * 0.8):]\n"
   ]
  },
  {
   "cell_type": "code",
   "execution_count": 10,
   "metadata": {},
   "outputs": [],
   "source": [
    "  with open('preprocessed_train_2016.pickle','wb') as f:\n",
    "            pickle.dump({'location_':[location_[i] for i in train_ix]},f)\n",
    "            pickle.dump({'input_':[input_[i] for i in train_ix]},f)\n",
    "            pickle.dump({'weekday_':[weekday_[i] for i in train_ix]},f)\n",
    "            pickle.dump({'hour_':[hour_[i] for i in train_ix]},f)  \n",
    "            pickle.dump({'output_':[output_[i] for i in train_ix]},f)  \n",
    "        \n",
    "with open('preprocessed_valid_2016.pickle','wb') as f:\n",
    "            pickle.dump({'location_':[location_[i] for i in valid_ix]},f)\n",
    "            pickle.dump({'input_':[input_[i] for i in valid_ix]},f)\n",
    "            pickle.dump({'weekday_':[weekday_[i] for i in valid_ix]},f)\n",
    "            pickle.dump({'hour_':[hour_[i] for i in valid_ix]},f)  \n",
    "            pickle.dump({'output_':[output_[i] for i in valid_ix]},f)  "
   ]
  },
  {
   "cell_type": "code",
   "execution_count": null,
   "metadata": {},
   "outputs": [],
   "source": [
    "  with open('preprocessed_train_2016.pickle','wb') as f:\n",
    "            pickle.dump({'location':[location_[i] for i in train_ix]},f)\n",
    "            pickle.dump({'input_':[input_[i] for i in train_ix]},f)\n",
    "            pickle.dump({'weekday_':[weekday_[i] for i in train_ix]},f)\n",
    "            pickle.dump({'hour_':[hour_[i] for i in train_ix]},f)  \n",
    "            pickle.dump({'output_':[output_[i] for i in train_ix]},f)  "
   ]
  }
 ],
 "metadata": {
  "kernelspec": {
   "display_name": "Python 3",
   "language": "python",
   "name": "python3"
  },
  "language_info": {
   "codemirror_mode": {
    "name": "ipython",
    "version": 3
   },
   "file_extension": ".py",
   "mimetype": "text/x-python",
   "name": "python",
   "nbconvert_exporter": "python",
   "pygments_lexer": "ipython3",
   "version": "3.8.5-final"
  }
 },
 "nbformat": 4,
 "nbformat_minor": 2
}