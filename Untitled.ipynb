{
 "cells": [
  {
   "cell_type": "code",
   "execution_count": 1,
   "metadata": {},
   "outputs": [],
   "source": [
    "# Import Module\n",
    "import os\n",
    "import argparse\n",
    "import numpy as np\n",
    "import pandas as pd\n",
    "\n",
    "from glob import glob\n",
    "\n",
    "# Import PyTorch\n",
    "import torch\n",
    "import torch.nn as nn\n",
    "import torch.optim as optim\n",
    "import torch.nn.utils as torch_utils\n",
    "\n",
    "# # Import Custom\n",
    "from model.bert import littleBert\n",
    "from dataset import CustomDataset, getDataLoader"
   ]
  },
  {
   "cell_type": "code",
   "execution_count": 2,
   "metadata": {},
   "outputs": [],
   "source": [
    "parser = argparse.ArgumentParser(description='Argparser')\n",
    "parser.add_argument('--data_path', type=str, default='./data/', help='data path')\n",
    "parser.add_argument('--data_type', type=str, default='*.h5', help='data type')\n",
    "\n",
    "parser.add_argument('--pad_idx', default=0, type=int, help='padding index')\n",
    "parser.add_argument('--bos_idx', default=1, type=int, help='bos index')\n",
    "parser.add_argument('--eos_idx', default=2, type=int, help='eos index')\n",
    "parser.add_argument('--unk_idx', default=3, type=int, help='unknown token index')\n",
    "\n",
    "parser.add_argument('--max_len', default=300, type=int, help='maximum length of the sentence')\n",
    "parser.add_argument('--d_model', default=512, type=int, help='dimension of model')\n",
    "parser.add_argument('--d_embedding', default=256, type=int, help='dimension of embedding for factorized embedding parameterization')\n",
    "parser.add_argument('--n_head', default=8, type=int, help='multi-head attention layer')\n",
    "parser.add_argument('--dim_feedforward', default=2048, type=int, help='dimension of feedforward network')\n",
    "parser.add_argument('--n_layers', default=6, type=int, help='layers of model')\n",
    "parser.add_argument('--dropout', default=0.1, type=float, help='dropout ratio')\n",
    "    \n",
    "args = parser.parse_args(list())"
   ]
  },
  {
   "cell_type": "code",
   "execution_count": 3,
   "metadata": {},
   "outputs": [],
   "source": [
    "device = torch.device(\"cuda\" if torch.cuda.is_available() else \"cpu\")"
   ]
  },
  {
   "cell_type": "code",
   "execution_count": 4,
   "metadata": {},
   "outputs": [],
   "source": [
    "data_path = './data/'\n",
    "data_list = sorted(glob(os.path.join(args.data_path, args.data_type)))"
   ]
  },
  {
   "cell_type": "code",
   "execution_count": 5,
   "metadata": {},
   "outputs": [],
   "source": [
    "dataset_dict = {\n",
    "    'train': CustomDataset(data_list[0]),\n",
    "    'valid': CustomDataset(data_list[1])\n",
    "}"
   ]
  },
  {
   "cell_type": "code",
   "execution_count": 6,
   "metadata": {},
   "outputs": [],
   "source": [
    "d = getDataLoader(dataset_dict['train'], 5, True, 4)"
   ]
  },
  {
   "cell_type": "code",
   "execution_count": 7,
   "metadata": {},
   "outputs": [],
   "source": [
    "model = littleBert()"
   ]
  },
  {
   "cell_type": "code",
   "execution_count": 9,
   "metadata": {},
   "outputs": [],
   "source": [
    "for i in d:\n",
    "    break"
   ]
  },
  {
   "cell_type": "code",
   "execution_count": 11,
   "metadata": {},
   "outputs": [
    {
     "data": {
      "text/plain": [
       "torch.Size([5, 12, 1])"
      ]
     },
     "execution_count": 11,
     "metadata": {},
     "output_type": "execute_result"
    }
   ],
   "source": [
    "model(i[0], i[3], i[2]).size()"
   ]
  },
  {
   "cell_type": "code",
   "execution_count": null,
   "metadata": {},
   "outputs": [],
   "source": []
  }
 ],
 "metadata": {
  "kernelspec": {
   "display_name": "Python 3",
   "language": "python",
   "name": "python3"
  },
  "language_info": {
   "codemirror_mode": {
    "name": "ipython",
    "version": 3
   },
   "file_extension": ".py",
   "mimetype": "text/x-python",
   "name": "python",
   "nbconvert_exporter": "python",
   "pygments_lexer": "ipython3",
   "version": "3.6.8"
  }
 },
 "nbformat": 4,
 "nbformat_minor": 2
}
